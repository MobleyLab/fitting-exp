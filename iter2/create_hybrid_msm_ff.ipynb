{
 "cells": [
  {
   "cell_type": "code",
   "execution_count": 1,
   "id": "58385d19",
   "metadata": {},
   "outputs": [],
   "source": [
    "#!wget https://raw.githubusercontent.com/jthorton/MSM_QCArchive/master/msm.offxml"
   ]
  },
  {
   "cell_type": "code",
   "execution_count": 2,
   "id": "4d60d278",
   "metadata": {},
   "outputs": [
    {
     "name": "stderr",
     "output_type": "stream",
     "text": [
      "Warning: Unable to load toolkit 'OpenEye Toolkit'. The Open Force Field Toolkit does not require the OpenEye Toolkits, and can use RDKit/AmberTools instead. However, if you have a valid license for the OpenEye Toolkits, consider installing them for faster performance and additional file format support: https://docs.eyesopen.com/toolkits/python/quickstart-python/linuxosx.html OpenEye offers free Toolkit licenses for academics: https://www.eyesopen.com/academic-licensing\n"
     ]
    }
   ],
   "source": [
    "from openff.toolkit.typing.engines.smirnoff import ForceField, vdWHandler, AngleHandler, BondHandler\n",
    "from openff.toolkit.typing.engines.smirnoff.parameters import LibraryChargeHandler"
   ]
  },
  {
   "cell_type": "code",
   "execution_count": 3,
   "id": "3fff4a1a",
   "metadata": {},
   "outputs": [],
   "source": [
    "msm_ff = ForceField('msm.offxml', allow_cosmetic_attributes=True)\n",
    "sage_rc1 = ForceField('openff_unconstrained-2.0.0-rc.1.offxml', allow_cosmetic_attributes=True)\n",
    "hybrid_ff = ForceField('openff_unconstrained-1.3.1.offxml', allow_cosmetic_attributes=True)"
   ]
  },
  {
   "cell_type": "markdown",
   "id": "f1426c67",
   "metadata": {},
   "source": [
    "## Creating a hybrid FF with bond and angle parameters from modified seminario, torsion parameters from 1.3.1, and vdW parameters from sage rc1"
   ]
  },
  {
   "cell_type": "code",
   "execution_count": 4,
   "id": "fdea489a",
   "metadata": {},
   "outputs": [],
   "source": [
    "hybrid_ff.deregister_parameter_handler('Bonds')\n",
    "bond_handler = BondHandler(version=0.3)\n",
    "for parameter in msm_ff['Bonds'].parameters:\n",
    "    bond_handler.add_parameter(parameter.to_dict())\n",
    "hybrid_ff.register_parameter_handler(bond_handler)"
   ]
  },
  {
   "cell_type": "code",
   "execution_count": 5,
   "id": "e5245bf6",
   "metadata": {},
   "outputs": [],
   "source": [
    "hybrid_ff.deregister_parameter_handler('Angles')\n",
    "angle_handler = AngleHandler(version=0.3)\n",
    "for parameter in msm_ff['Angles'].parameters:\n",
    "    angle_handler.add_parameter(parameter.to_dict())\n",
    "hybrid_ff.register_parameter_handler(angle_handler)"
   ]
  },
  {
   "cell_type": "code",
   "execution_count": 6,
   "id": "0a3b3510",
   "metadata": {},
   "outputs": [],
   "source": [
    "hybrid_ff.deregister_parameter_handler('vdW')\n",
    "vdw_handler = vdWHandler(version=0.3)\n",
    "for parameter in sage_rc1['vdW'].parameters:\n",
    "    vdw_handler.add_parameter(parameter.to_dict())\n",
    "hybrid_ff.register_parameter_handler(vdw_handler)"
   ]
  },
  {
   "cell_type": "code",
   "execution_count": 7,
   "id": "761bbf89",
   "metadata": {},
   "outputs": [],
   "source": [
    "hybrid_ff.deregister_parameter_handler('LibraryCharges')\n",
    "librarycharges_handler = LibraryChargeHandler(version=0.3)\n",
    "for parameter in sage_rc1['LibraryCharges'].parameters:\n",
    "    librarycharges_handler.add_parameter(parameter.to_dict())\n",
    "hybrid_ff.register_parameter_handler(librarycharges_handler)"
   ]
  },
  {
   "cell_type": "code",
   "execution_count": 8,
   "id": "d221f249",
   "metadata": {},
   "outputs": [],
   "source": [
    "for ptype in ['Angles', 'Bonds', 'ProperTorsions']:\n",
    "    for i in range(len(hybrid_ff.get_parameter_handler(ptype).parameters)):\n",
    "        item = hybrid_ff.get_parameter_handler(ptype).parameters[i]\n",
    "        dd = item.to_dict()\n",
    "        if dd['id'] in ['t156', 't157', 't158']:\n",
    "            continue\n",
    "        dd['parameterize'] = []\n",
    "        for key, value in dd.items():\n",
    "            if key.startswith('k') or key.startswith('angle') or key.startswith('length'):\n",
    "                dd['parameterize'].append(key)\n",
    "        dd['parameterize'] = ','.join(dd['parameterize'])\n",
    "        hybrid_ff.get_parameter_handler(ptype).parameters[i].add_cosmetic_attribute('parameterize', dd['parameterize'])"
   ]
  },
  {
   "cell_type": "code",
   "execution_count": 9,
   "id": "4d4e2a42",
   "metadata": {},
   "outputs": [],
   "source": [
    "hybrid_ff.to_file('hybrid_msm_sagerc1.offxml')"
   ]
  },
  {
   "cell_type": "code",
   "execution_count": null,
   "id": "cf9b19f7",
   "metadata": {},
   "outputs": [],
   "source": []
  }
 ],
 "metadata": {
  "kernelspec": {
   "display_name": "Python 3",
   "language": "python",
   "name": "python3"
  },
  "language_info": {
   "codemirror_mode": {
    "name": "ipython",
    "version": 3
   },
   "file_extension": ".py",
   "mimetype": "text/x-python",
   "name": "python",
   "nbconvert_exporter": "python",
   "pygments_lexer": "ipython3",
   "version": "3.8.10"
  }
 },
 "nbformat": 4,
 "nbformat_minor": 5
}
